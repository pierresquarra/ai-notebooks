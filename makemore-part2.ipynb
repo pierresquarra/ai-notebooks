{
 "cells": [
  {
   "cell_type": "markdown",
   "source": [
    "**References:**\n",
    "\n",
    "- [github/karpathy/makemore](https://github.com/karpathy/makemore)\n",
    "- [github/karpathy/nn-zero-to-hero](https://github.com/karpathy/nn-zero-to-hero/blob/master/lectures/makemore/makemore_part2_mlp.ipynb)\n",
    "- [paper](https://www.jmlr.org/papers/volume3/bengio03a/bengio03a.pdf)"
   ],
   "metadata": {
    "collapsed": false
   },
   "id": "5aff9aca7ca7e88e"
  },
  {
   "cell_type": "code",
   "execution_count": 1,
   "id": "initial_id",
   "metadata": {
    "collapsed": true,
    "ExecuteTime": {
     "end_time": "2023-09-20T09:14:31.303766300Z",
     "start_time": "2023-09-20T09:14:29.341712200Z"
    }
   },
   "outputs": [],
   "source": [
    "import torch\n",
    "import torch.nn.functional as F\n",
    "import matplotlib.pyplot as plt # for making figures\n",
    "%matplotlib inline"
   ]
  },
  {
   "cell_type": "code",
   "execution_count": 2,
   "outputs": [
    {
     "data": {
      "text/plain": "['emma', 'olivia', 'ava', 'isabella', 'sophia', 'charlotte', 'mia', 'amelia']"
     },
     "execution_count": 2,
     "metadata": {},
     "output_type": "execute_result"
    }
   ],
   "source": [
    "# read in all the words\n",
    "words = open('data/names.txt', 'r').read().splitlines()\n",
    "words[:8]"
   ],
   "metadata": {
    "collapsed": false,
    "ExecuteTime": {
     "end_time": "2023-09-20T09:14:31.311490800Z",
     "start_time": "2023-09-20T09:14:31.303766300Z"
    }
   },
   "id": "77de89134f5e512f"
  },
  {
   "cell_type": "code",
   "execution_count": 3,
   "outputs": [
    {
     "name": "stdout",
     "output_type": "stream",
     "text": [
      "{1: 'a', 2: 'b', 3: 'c', 4: 'd', 5: 'e', 6: 'f', 7: 'g', 8: 'h', 9: 'i', 10: 'j', 11: 'k', 12: 'l', 13: 'm', 14: 'n', 15: 'o', 16: 'p', 17: 'q', 18: 'r', 19: 's', 20: 't', 21: 'u', 22: 'v', 23: 'w', 24: 'x', 25: 'y', 26: 'z', 0: '.'}\n"
     ]
    }
   ],
   "source": [
    "# build the vocabulary of characters and mappings to/from integers\n",
    "chars = sorted(list(set(''.join(words))))\n",
    "stoi = {s:i+1 for i,s in enumerate(chars)}\n",
    "stoi['.'] = 0\n",
    "itos = {i:s for s,i in stoi.items()}\n",
    "print(itos)"
   ],
   "metadata": {
    "collapsed": false,
    "ExecuteTime": {
     "end_time": "2023-09-20T09:14:31.320246400Z",
     "start_time": "2023-09-20T09:14:31.311490800Z"
    }
   },
   "id": "59436c1760a1f211"
  },
  {
   "cell_type": "code",
   "execution_count": 4,
   "outputs": [
    {
     "name": "stdout",
     "output_type": "stream",
     "text": [
      "torch.Size([182625, 3]) torch.Size([182625])\n",
      "torch.Size([22655, 3]) torch.Size([22655])\n",
      "torch.Size([22866, 3]) torch.Size([22866])\n"
     ]
    }
   ],
   "source": [
    "# build the dataset\n",
    "block_size = 3 # context length: how many characters do we take to predict the next one?\n",
    "\n",
    "def build_dataset(words):  \n",
    "  X, Y = [], []\n",
    "  for w in words:\n",
    "\n",
    "    context = [0] * block_size\n",
    "    for ch in w + '.':\n",
    "      ix = stoi[ch]\n",
    "      X.append(context)\n",
    "      Y.append(ix)\n",
    "      # print(''.join(itos[i] for i in context), '--->', itos[ix])\n",
    "      context = context[1:] + [ix] # crop and append\n",
    "\n",
    "  X = torch.tensor(X)\n",
    "  Y = torch.tensor(Y)\n",
    "  print(X.shape, Y.shape)\n",
    "  return X, Y\n",
    "\n",
    "import random\n",
    "random.seed(42)\n",
    "random.shuffle(words)\n",
    "n1 = int(0.8*len(words))\n",
    "n2 = int(0.9*len(words))\n",
    "\n",
    "Xtr, Ytr = build_dataset(words[:n1])\n",
    "Xdev, Ydev = build_dataset(words[n1:n2])\n",
    "Xte, Yte = build_dataset(words[n2:])"
   ],
   "metadata": {
    "collapsed": false,
    "ExecuteTime": {
     "end_time": "2023-09-20T09:14:31.764303Z",
     "start_time": "2023-09-20T09:14:31.320246400Z"
    }
   },
   "id": "ba40c4258d3a9ad5"
  },
  {
   "cell_type": "code",
   "execution_count": 5,
   "outputs": [
    {
     "name": "stdout",
     "output_type": "stream",
     "text": [
      "total number of parameters: 3481\n"
     ]
    }
   ],
   "source": [
    "num_chs = 27\n",
    "dim_emb = 2\n",
    "dim_hid = 100\n",
    "C = torch.randn((num_chs, dim_emb)) # lookup table\n",
    "W1 = torch.randn((block_size * dim_emb, dim_hid)) # hidden layer weights\n",
    "b1 = torch.randn(dim_hid) # hidden layer biases\n",
    "W2 = torch.randn((dim_hid, num_chs)) # output layer weights\n",
    "b2 = torch.randn(num_chs) # output layer biases\n",
    "parameters = [C, W1, b1, W2, b2]\n",
    "print(\"total number of parameters:\", sum(p.nelement() for p in parameters))"
   ],
   "metadata": {
    "collapsed": false,
    "ExecuteTime": {
     "end_time": "2023-09-20T09:14:31.767690700Z",
     "start_time": "2023-09-20T09:14:31.758264500Z"
    }
   },
   "id": "80a9a19db9959034"
  },
  {
   "cell_type": "code",
   "execution_count": 6,
   "outputs": [],
   "source": [
    "for p in parameters:\n",
    "  p.requires_grad = True"
   ],
   "metadata": {
    "collapsed": false,
    "ExecuteTime": {
     "end_time": "2023-09-20T09:14:31.768196100Z",
     "start_time": "2023-09-20T09:14:31.764303Z"
    }
   },
   "id": "926752b11a4ed1c4"
  },
  {
   "cell_type": "code",
   "execution_count": 7,
   "outputs": [],
   "source": [
    "lossi = []\n",
    "BS = 32"
   ],
   "metadata": {
    "collapsed": false,
    "ExecuteTime": {
     "end_time": "2023-09-20T09:14:31.771891Z",
     "start_time": "2023-09-20T09:14:31.770207100Z"
    }
   },
   "id": "6a842881696eac93"
  },
  {
   "cell_type": "code",
   "execution_count": 8,
   "outputs": [
    {
     "name": "stdout",
     "output_type": "stream",
     "text": [
      "loss at step 0: 18.17816734313965\n",
      "loss at step 1000: 2.114788770675659\n",
      "loss at step 2000: 2.833698034286499\n",
      "loss at step 3000: 2.8691139221191406\n",
      "loss at step 4000: 2.3577542304992676\n",
      "loss at step 5000: 2.305111885070801\n",
      "loss at step 6000: 2.185377836227417\n",
      "loss at step 7000: 3.176168441772461\n",
      "loss at step 8000: 2.437314033508301\n",
      "loss at step 9000: 2.6896064281463623\n",
      "loss at step 10000: 2.469217538833618\n",
      "loss at step 11000: 2.5263614654541016\n",
      "loss at step 12000: 2.430050849914551\n",
      "loss at step 13000: 2.20076584815979\n",
      "loss at step 14000: 2.427978277206421\n",
      "loss at step 15000: 2.523467779159546\n",
      "loss at step 16000: 2.7824625968933105\n",
      "loss at step 17000: 1.9264509677886963\n",
      "loss at step 18000: 2.6216909885406494\n",
      "loss at step 19000: 2.3174033164978027\n"
     ]
    }
   ],
   "source": [
    "for i in range(20000):\n",
    "  \n",
    "  # minibatch construct\n",
    "  ix = torch.randint(0, Xtr.shape[0], size=(BS,))\n",
    "  \n",
    "  # forward pass\n",
    "  emb = C[Xtr[ix]] # (BS, block_size, dim_emb) (32, 3, 2)\n",
    "  h = torch.tanh(emb.view(-1, block_size * dim_emb) @ W1 + b1) # (BS, dim_hid) (32, 100)\n",
    "  logits = h @ W2 + b2 # (BS, num_chs) (32, 27)\n",
    "  loss = F.cross_entropy(logits, Ytr[ix])\n",
    "  if i % 1000 == 0: print(f\"loss at step {i}: {loss.item()}\")\n",
    "  \n",
    "  # backward pass\n",
    "  for p in parameters:\n",
    "    p.grad = None\n",
    "  loss.backward()\n",
    "  \n",
    "  # update\n",
    "  lr = 0.1 if i < 100000 else 0.01 # lr decay lol\n",
    "  for p in parameters:\n",
    "    p.data += -lr * p.grad\n",
    "\n",
    "  # track stats\n",
    "  lossi.append(loss.log10().item())"
   ],
   "metadata": {
    "collapsed": false,
    "ExecuteTime": {
     "end_time": "2023-09-20T09:14:41.526544600Z",
     "start_time": "2023-09-20T09:14:31.771891Z"
    }
   },
   "id": "877ab72fa6b70273"
  },
  {
   "cell_type": "code",
   "execution_count": 9,
   "outputs": [
    {
     "data": {
      "text/plain": "[<matplotlib.lines.Line2D at 0x2bf00a5a550>]"
     },
     "execution_count": 9,
     "metadata": {},
     "output_type": "execute_result"
    },
    {
     "data": {
      "text/plain": "<Figure size 640x480 with 1 Axes>",
      "image/png": "[encoded data removed]"
     },
     "metadata": {},
     "output_type": "display_data"
    }
   ],
   "source": [
    "plt.plot(lossi)"
   ],
   "metadata": {
    "collapsed": false,
    "ExecuteTime": {
     "end_time": "2023-09-20T09:14:41.708501600Z",
     "start_time": "2023-09-20T09:14:41.526544600Z"
    }
   },
   "id": "7f3f671ba497a34"
  },
  {
   "cell_type": "code",
   "execution_count": 10,
   "outputs": [
    {
     "data": {
      "text/plain": "tensor(2.4236, grad_fn=<NllLossBackward0>)"
     },
     "execution_count": 10,
     "metadata": {},
     "output_type": "execute_result"
    }
   ],
   "source": [
    "# test with dev set\n",
    "emb = C[Xdev] # (22655, block_size, dim_emb) (22655, 3, 2)\n",
    "h = torch.tanh(emb.view(-1, block_size * dim_emb) @ W1 + b1) # (22655, dim_hid) (22655, 100)\n",
    "logits = h @ W2 + b2 # (22655, num_chs) (22655, 27)\n",
    "loss = F.cross_entropy(logits, Ydev)\n",
    "loss"
   ],
   "metadata": {
    "collapsed": false,
    "ExecuteTime": {
     "end_time": "2023-09-20T09:14:41.729614800Z",
     "start_time": "2023-09-20T09:14:41.711009600Z"
    }
   },
   "id": "4ec7cef69275587"
  },
  {
   "cell_type": "code",
   "execution_count": 11,
   "outputs": [
    {
     "data": {
      "text/plain": "<Figure size 800x800 with 1 Axes>",
      "image/png": "[encoded data removed]"
     },
     "metadata": {},
     "output_type": "display_data"
    }
   ],
   "source": [
    "# visualize dimensions 0 and 1 of the embedding matrix C for all characters\n",
    "plt.figure(figsize=(8,8))\n",
    "plt.scatter(C[:,0].data, C[:,1].data, s=200)\n",
    "for i in range(C.shape[0]):\n",
    "    plt.text(C[i,0].item(), C[i,1].item(), itos[i], ha=\"center\", va=\"center\", color='white')\n",
    "plt.grid('minor')"
   ],
   "metadata": {
    "collapsed": false,
    "ExecuteTime": {
     "end_time": "2023-09-20T09:14:41.895115900Z",
     "start_time": "2023-09-20T09:14:41.729614800Z"
    }
   },
   "id": "adc516f653b528d5"
  },
  {
   "cell_type": "code",
   "execution_count": 12,
   "outputs": [
    {
     "name": "stdout",
     "output_type": "stream",
     "text": [
      "enora.\n",
      "carira.\n",
      "dholvinzlynna.\n",
      "almlajadben.\n",
      "kaqaan.\n",
      "keren.\n",
      "kana.\n",
      "whh.\n",
      "omaylan.\n",
      "mava.\n",
      "namahgijeilee.\n",
      "rri.\n",
      "moryna.\n",
      "mayananabanelis.\n",
      "harcadir.\n",
      "kan.\n",
      "lom.\n",
      "dina.\n",
      "carny.\n",
      "zh.\n"
     ]
    }
   ],
   "source": [
    "# sample from the model\n",
    "for _ in range(20):\n",
    "    out = []\n",
    "    context = [0] * block_size # initialize with all ...\n",
    "    while True:\n",
    "      emb = C[torch.tensor([context])] # (1,block_size,d)\n",
    "      h = torch.tanh(emb.view(1, -1) @ W1 + b1)\n",
    "      logits = h @ W2 + b2\n",
    "      probs = F.softmax(logits, dim=1)\n",
    "      ix = torch.multinomial(probs, num_samples=1).item()\n",
    "      context = context[1:] + [ix]\n",
    "      out.append(ix)\n",
    "      if ix == 0:\n",
    "        break\n",
    "    \n",
    "    print(''.join(itos[i] for i in out))"
   ],
   "metadata": {
    "collapsed": false,
    "ExecuteTime": {
     "end_time": "2023-09-20T09:14:41.931330200Z",
     "start_time": "2023-09-20T09:14:41.895115900Z"
    }
   },
   "id": "502a47b8c872c3d8"
  }
 ],
 "metadata": {
  "kernelspec": {
   "display_name": "Python 3",
   "language": "python",
   "name": "python3"
  },
  "language_info": {
   "codemirror_mode": {
    "name": "ipython",
    "version": 2
   },
   "file_extension": ".py",
   "mimetype": "text/x-python",
   "name": "python",
   "nbconvert_exporter": "python",
   "pygments_lexer": "ipython2",
   "version": "2.7.6"
  }
 },
 "nbformat": 4,
 "nbformat_minor": 5
}
